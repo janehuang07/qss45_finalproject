{
  "nbformat": 4,
  "nbformat_minor": 0,
  "metadata": {
    "colab": {
      "provenance": [],
      "gpuType": "A100"
    },
    "kernelspec": {
      "name": "python3",
      "display_name": "Python 3"
    },
    "language_info": {
      "name": "python"
    },
    "accelerator": "GPU",
    "widgets": {
      "application/vnd.jupyter.widget-state+json": {
        "4e6d47d37ef94c56a8c252b8843f1cf7": {
          "model_module": "@jupyter-widgets/controls",
          "model_name": "HBoxModel",
          "model_module_version": "1.5.0",
          "state": {
            "_dom_classes": [],
            "_model_module": "@jupyter-widgets/controls",
            "_model_module_version": "1.5.0",
            "_model_name": "HBoxModel",
            "_view_count": null,
            "_view_module": "@jupyter-widgets/controls",
            "_view_module_version": "1.5.0",
            "_view_name": "HBoxView",
            "box_style": "",
            "children": [
              "IPY_MODEL_7f7710cf4ad047a1b7246d0234a3d8aa",
              "IPY_MODEL_de07bdbc4abe44ff99e8205509f789b2",
              "IPY_MODEL_5a1694ef9b40487799733c379d0e60cd"
            ],
            "layout": "IPY_MODEL_f1dc8f11cae64af3a6b3cde55207b9fa"
          }
        },
        "7f7710cf4ad047a1b7246d0234a3d8aa": {
          "model_module": "@jupyter-widgets/controls",
          "model_name": "HTMLModel",
          "model_module_version": "1.5.0",
          "state": {
            "_dom_classes": [],
            "_model_module": "@jupyter-widgets/controls",
            "_model_module_version": "1.5.0",
            "_model_name": "HTMLModel",
            "_view_count": null,
            "_view_module": "@jupyter-widgets/controls",
            "_view_module_version": "1.5.0",
            "_view_name": "HTMLView",
            "description": "",
            "description_tooltip": null,
            "layout": "IPY_MODEL_da734b00e7484506b38fca5c4b7f42cc",
            "placeholder": "​",
            "style": "IPY_MODEL_8dede81485bb4847b5c30d532c1d73db",
            "value": "tokenizer_config.json: 100%"
          }
        },
        "de07bdbc4abe44ff99e8205509f789b2": {
          "model_module": "@jupyter-widgets/controls",
          "model_name": "FloatProgressModel",
          "model_module_version": "1.5.0",
          "state": {
            "_dom_classes": [],
            "_model_module": "@jupyter-widgets/controls",
            "_model_module_version": "1.5.0",
            "_model_name": "FloatProgressModel",
            "_view_count": null,
            "_view_module": "@jupyter-widgets/controls",
            "_view_module_version": "1.5.0",
            "_view_name": "ProgressView",
            "bar_style": "success",
            "description": "",
            "description_tooltip": null,
            "layout": "IPY_MODEL_2e7da3ee00624e82ab34a50ed61e04f2",
            "max": 48,
            "min": 0,
            "orientation": "horizontal",
            "style": "IPY_MODEL_8f884c77a6084cc2b64f8f099d1810fd",
            "value": 48
          }
        },
        "5a1694ef9b40487799733c379d0e60cd": {
          "model_module": "@jupyter-widgets/controls",
          "model_name": "HTMLModel",
          "model_module_version": "1.5.0",
          "state": {
            "_dom_classes": [],
            "_model_module": "@jupyter-widgets/controls",
            "_model_module_version": "1.5.0",
            "_model_name": "HTMLModel",
            "_view_count": null,
            "_view_module": "@jupyter-widgets/controls",
            "_view_module_version": "1.5.0",
            "_view_name": "HTMLView",
            "description": "",
            "description_tooltip": null,
            "layout": "IPY_MODEL_1bd4fc1166fd42c8aa755c3d271120bc",
            "placeholder": "​",
            "style": "IPY_MODEL_ffff765fde2e45889e96045649acba23",
            "value": " 48.0/48.0 [00:00&lt;00:00, 3.54kB/s]"
          }
        },
        "f1dc8f11cae64af3a6b3cde55207b9fa": {
          "model_module": "@jupyter-widgets/base",
          "model_name": "LayoutModel",
          "model_module_version": "1.2.0",
          "state": {
            "_model_module": "@jupyter-widgets/base",
            "_model_module_version": "1.2.0",
            "_model_name": "LayoutModel",
            "_view_count": null,
            "_view_module": "@jupyter-widgets/base",
            "_view_module_version": "1.2.0",
            "_view_name": "LayoutView",
            "align_content": null,
            "align_items": null,
            "align_self": null,
            "border": null,
            "bottom": null,
            "display": null,
            "flex": null,
            "flex_flow": null,
            "grid_area": null,
            "grid_auto_columns": null,
            "grid_auto_flow": null,
            "grid_auto_rows": null,
            "grid_column": null,
            "grid_gap": null,
            "grid_row": null,
            "grid_template_areas": null,
            "grid_template_columns": null,
            "grid_template_rows": null,
            "height": null,
            "justify_content": null,
            "justify_items": null,
            "left": null,
            "margin": null,
            "max_height": null,
            "max_width": null,
            "min_height": null,
            "min_width": null,
            "object_fit": null,
            "object_position": null,
            "order": null,
            "overflow": null,
            "overflow_x": null,
            "overflow_y": null,
            "padding": null,
            "right": null,
            "top": null,
            "visibility": null,
            "width": null
          }
        },
        "da734b00e7484506b38fca5c4b7f42cc": {
          "model_module": "@jupyter-widgets/base",
          "model_name": "LayoutModel",
          "model_module_version": "1.2.0",
          "state": {
            "_model_module": "@jupyter-widgets/base",
            "_model_module_version": "1.2.0",
            "_model_name": "LayoutModel",
            "_view_count": null,
            "_view_module": "@jupyter-widgets/base",
            "_view_module_version": "1.2.0",
            "_view_name": "LayoutView",
            "align_content": null,
            "align_items": null,
            "align_self": null,
            "border": null,
            "bottom": null,
            "display": null,
            "flex": null,
            "flex_flow": null,
            "grid_area": null,
            "grid_auto_columns": null,
            "grid_auto_flow": null,
            "grid_auto_rows": null,
            "grid_column": null,
            "grid_gap": null,
            "grid_row": null,
            "grid_template_areas": null,
            "grid_template_columns": null,
            "grid_template_rows": null,
            "height": null,
            "justify_content": null,
            "justify_items": null,
            "left": null,
            "margin": null,
            "max_height": null,
            "max_width": null,
            "min_height": null,
            "min_width": null,
            "object_fit": null,
            "object_position": null,
            "order": null,
            "overflow": null,
            "overflow_x": null,
            "overflow_y": null,
            "padding": null,
            "right": null,
            "top": null,
            "visibility": null,
            "width": null
          }
        },
        "8dede81485bb4847b5c30d532c1d73db": {
          "model_module": "@jupyter-widgets/controls",
          "model_name": "DescriptionStyleModel",
          "model_module_version": "1.5.0",
          "state": {
            "_model_module": "@jupyter-widgets/controls",
            "_model_module_version": "1.5.0",
            "_model_name": "DescriptionStyleModel",
            "_view_count": null,
            "_view_module": "@jupyter-widgets/base",
            "_view_module_version": "1.2.0",
            "_view_name": "StyleView",
            "description_width": ""
          }
        },
        "2e7da3ee00624e82ab34a50ed61e04f2": {
          "model_module": "@jupyter-widgets/base",
          "model_name": "LayoutModel",
          "model_module_version": "1.2.0",
          "state": {
            "_model_module": "@jupyter-widgets/base",
            "_model_module_version": "1.2.0",
            "_model_name": "LayoutModel",
            "_view_count": null,
            "_view_module": "@jupyter-widgets/base",
            "_view_module_version": "1.2.0",
            "_view_name": "LayoutView",
            "align_content": null,
            "align_items": null,
            "align_self": null,
            "border": null,
            "bottom": null,
            "display": null,
            "flex": null,
            "flex_flow": null,
            "grid_area": null,
            "grid_auto_columns": null,
            "grid_auto_flow": null,
            "grid_auto_rows": null,
            "grid_column": null,
            "grid_gap": null,
            "grid_row": null,
            "grid_template_areas": null,
            "grid_template_columns": null,
            "grid_template_rows": null,
            "height": null,
            "justify_content": null,
            "justify_items": null,
            "left": null,
            "margin": null,
            "max_height": null,
            "max_width": null,
            "min_height": null,
            "min_width": null,
            "object_fit": null,
            "object_position": null,
            "order": null,
            "overflow": null,
            "overflow_x": null,
            "overflow_y": null,
            "padding": null,
            "right": null,
            "top": null,
            "visibility": null,
            "width": null
          }
        },
        "8f884c77a6084cc2b64f8f099d1810fd": {
          "model_module": "@jupyter-widgets/controls",
          "model_name": "ProgressStyleModel",
          "model_module_version": "1.5.0",
          "state": {
            "_model_module": "@jupyter-widgets/controls",
            "_model_module_version": "1.5.0",
            "_model_name": "ProgressStyleModel",
            "_view_count": null,
            "_view_module": "@jupyter-widgets/base",
            "_view_module_version": "1.2.0",
            "_view_name": "StyleView",
            "bar_color": null,
            "description_width": ""
          }
        },
        "1bd4fc1166fd42c8aa755c3d271120bc": {
          "model_module": "@jupyter-widgets/base",
          "model_name": "LayoutModel",
          "model_module_version": "1.2.0",
          "state": {
            "_model_module": "@jupyter-widgets/base",
            "_model_module_version": "1.2.0",
            "_model_name": "LayoutModel",
            "_view_count": null,
            "_view_module": "@jupyter-widgets/base",
            "_view_module_version": "1.2.0",
            "_view_name": "LayoutView",
            "align_content": null,
            "align_items": null,
            "align_self": null,
            "border": null,
            "bottom": null,
            "display": null,
            "flex": null,
            "flex_flow": null,
            "grid_area": null,
            "grid_auto_columns": null,
            "grid_auto_flow": null,
            "grid_auto_rows": null,
            "grid_column": null,
            "grid_gap": null,
            "grid_row": null,
            "grid_template_areas": null,
            "grid_template_columns": null,
            "grid_template_rows": null,
            "height": null,
            "justify_content": null,
            "justify_items": null,
            "left": null,
            "margin": null,
            "max_height": null,
            "max_width": null,
            "min_height": null,
            "min_width": null,
            "object_fit": null,
            "object_position": null,
            "order": null,
            "overflow": null,
            "overflow_x": null,
            "overflow_y": null,
            "padding": null,
            "right": null,
            "top": null,
            "visibility": null,
            "width": null
          }
        },
        "ffff765fde2e45889e96045649acba23": {
          "model_module": "@jupyter-widgets/controls",
          "model_name": "DescriptionStyleModel",
          "model_module_version": "1.5.0",
          "state": {
            "_model_module": "@jupyter-widgets/controls",
            "_model_module_version": "1.5.0",
            "_model_name": "DescriptionStyleModel",
            "_view_count": null,
            "_view_module": "@jupyter-widgets/base",
            "_view_module_version": "1.2.0",
            "_view_name": "StyleView",
            "description_width": ""
          }
        },
        "d2727ce622cd46039de86eb0507fbbc2": {
          "model_module": "@jupyter-widgets/controls",
          "model_name": "HBoxModel",
          "model_module_version": "1.5.0",
          "state": {
            "_dom_classes": [],
            "_model_module": "@jupyter-widgets/controls",
            "_model_module_version": "1.5.0",
            "_model_name": "HBoxModel",
            "_view_count": null,
            "_view_module": "@jupyter-widgets/controls",
            "_view_module_version": "1.5.0",
            "_view_name": "HBoxView",
            "box_style": "",
            "children": [
              "IPY_MODEL_4c86b810897448c3ad906717f9138bb4",
              "IPY_MODEL_89e6e034057046b1a84413853e675c3b",
              "IPY_MODEL_f961386ec5aa43bfb658b712a1cf6410"
            ],
            "layout": "IPY_MODEL_a354e42955ae42f58dd81fcfc7af19b7"
          }
        },
        "4c86b810897448c3ad906717f9138bb4": {
          "model_module": "@jupyter-widgets/controls",
          "model_name": "HTMLModel",
          "model_module_version": "1.5.0",
          "state": {
            "_dom_classes": [],
            "_model_module": "@jupyter-widgets/controls",
            "_model_module_version": "1.5.0",
            "_model_name": "HTMLModel",
            "_view_count": null,
            "_view_module": "@jupyter-widgets/controls",
            "_view_module_version": "1.5.0",
            "_view_name": "HTMLView",
            "description": "",
            "description_tooltip": null,
            "layout": "IPY_MODEL_af03fe6c8d3f46b2b046584a1a616c82",
            "placeholder": "​",
            "style": "IPY_MODEL_0a5dc402c47f46d6bfebd27aa517c00c",
            "value": "vocab.txt: 100%"
          }
        },
        "89e6e034057046b1a84413853e675c3b": {
          "model_module": "@jupyter-widgets/controls",
          "model_name": "FloatProgressModel",
          "model_module_version": "1.5.0",
          "state": {
            "_dom_classes": [],
            "_model_module": "@jupyter-widgets/controls",
            "_model_module_version": "1.5.0",
            "_model_name": "FloatProgressModel",
            "_view_count": null,
            "_view_module": "@jupyter-widgets/controls",
            "_view_module_version": "1.5.0",
            "_view_name": "ProgressView",
            "bar_style": "success",
            "description": "",
            "description_tooltip": null,
            "layout": "IPY_MODEL_7d3804d511f0429bb3ef4d844d7395d0",
            "max": 231508,
            "min": 0,
            "orientation": "horizontal",
            "style": "IPY_MODEL_86ba3d0f0e52494e8dcd20f956dae85b",
            "value": 231508
          }
        },
        "f961386ec5aa43bfb658b712a1cf6410": {
          "model_module": "@jupyter-widgets/controls",
          "model_name": "HTMLModel",
          "model_module_version": "1.5.0",
          "state": {
            "_dom_classes": [],
            "_model_module": "@jupyter-widgets/controls",
            "_model_module_version": "1.5.0",
            "_model_name": "HTMLModel",
            "_view_count": null,
            "_view_module": "@jupyter-widgets/controls",
            "_view_module_version": "1.5.0",
            "_view_name": "HTMLView",
            "description": "",
            "description_tooltip": null,
            "layout": "IPY_MODEL_b8c2c05f2aca4116abfcec571a92e908",
            "placeholder": "​",
            "style": "IPY_MODEL_fdbb3538e8884b3793999e7f952eee67",
            "value": " 232k/232k [00:00&lt;00:00, 13.4MB/s]"
          }
        },
        "a354e42955ae42f58dd81fcfc7af19b7": {
          "model_module": "@jupyter-widgets/base",
          "model_name": "LayoutModel",
          "model_module_version": "1.2.0",
          "state": {
            "_model_module": "@jupyter-widgets/base",
            "_model_module_version": "1.2.0",
            "_model_name": "LayoutModel",
            "_view_count": null,
            "_view_module": "@jupyter-widgets/base",
            "_view_module_version": "1.2.0",
            "_view_name": "LayoutView",
            "align_content": null,
            "align_items": null,
            "align_self": null,
            "border": null,
            "bottom": null,
            "display": null,
            "flex": null,
            "flex_flow": null,
            "grid_area": null,
            "grid_auto_columns": null,
            "grid_auto_flow": null,
            "grid_auto_rows": null,
            "grid_column": null,
            "grid_gap": null,
            "grid_row": null,
            "grid_template_areas": null,
            "grid_template_columns": null,
            "grid_template_rows": null,
            "height": null,
            "justify_content": null,
            "justify_items": null,
            "left": null,
            "margin": null,
            "max_height": null,
            "max_width": null,
            "min_height": null,
            "min_width": null,
            "object_fit": null,
            "object_position": null,
            "order": null,
            "overflow": null,
            "overflow_x": null,
            "overflow_y": null,
            "padding": null,
            "right": null,
            "top": null,
            "visibility": null,
            "width": null
          }
        },
        "af03fe6c8d3f46b2b046584a1a616c82": {
          "model_module": "@jupyter-widgets/base",
          "model_name": "LayoutModel",
          "model_module_version": "1.2.0",
          "state": {
            "_model_module": "@jupyter-widgets/base",
            "_model_module_version": "1.2.0",
            "_model_name": "LayoutModel",
            "_view_count": null,
            "_view_module": "@jupyter-widgets/base",
            "_view_module_version": "1.2.0",
            "_view_name": "LayoutView",
            "align_content": null,
            "align_items": null,
            "align_self": null,
            "border": null,
            "bottom": null,
            "display": null,
            "flex": null,
            "flex_flow": null,
            "grid_area": null,
            "grid_auto_columns": null,
            "grid_auto_flow": null,
            "grid_auto_rows": null,
            "grid_column": null,
            "grid_gap": null,
            "grid_row": null,
            "grid_template_areas": null,
            "grid_template_columns": null,
            "grid_template_rows": null,
            "height": null,
            "justify_content": null,
            "justify_items": null,
            "left": null,
            "margin": null,
            "max_height": null,
            "max_width": null,
            "min_height": null,
            "min_width": null,
            "object_fit": null,
            "object_position": null,
            "order": null,
            "overflow": null,
            "overflow_x": null,
            "overflow_y": null,
            "padding": null,
            "right": null,
            "top": null,
            "visibility": null,
            "width": null
          }
        },
        "0a5dc402c47f46d6bfebd27aa517c00c": {
          "model_module": "@jupyter-widgets/controls",
          "model_name": "DescriptionStyleModel",
          "model_module_version": "1.5.0",
          "state": {
            "_model_module": "@jupyter-widgets/controls",
            "_model_module_version": "1.5.0",
            "_model_name": "DescriptionStyleModel",
            "_view_count": null,
            "_view_module": "@jupyter-widgets/base",
            "_view_module_version": "1.2.0",
            "_view_name": "StyleView",
            "description_width": ""
          }
        },
        "7d3804d511f0429bb3ef4d844d7395d0": {
          "model_module": "@jupyter-widgets/base",
          "model_name": "LayoutModel",
          "model_module_version": "1.2.0",
          "state": {
            "_model_module": "@jupyter-widgets/base",
            "_model_module_version": "1.2.0",
            "_model_name": "LayoutModel",
            "_view_count": null,
            "_view_module": "@jupyter-widgets/base",
            "_view_module_version": "1.2.0",
            "_view_name": "LayoutView",
            "align_content": null,
            "align_items": null,
            "align_self": null,
            "border": null,
            "bottom": null,
            "display": null,
            "flex": null,
            "flex_flow": null,
            "grid_area": null,
            "grid_auto_columns": null,
            "grid_auto_flow": null,
            "grid_auto_rows": null,
            "grid_column": null,
            "grid_gap": null,
            "grid_row": null,
            "grid_template_areas": null,
            "grid_template_columns": null,
            "grid_template_rows": null,
            "height": null,
            "justify_content": null,
            "justify_items": null,
            "left": null,
            "margin": null,
            "max_height": null,
            "max_width": null,
            "min_height": null,
            "min_width": null,
            "object_fit": null,
            "object_position": null,
            "order": null,
            "overflow": null,
            "overflow_x": null,
            "overflow_y": null,
            "padding": null,
            "right": null,
            "top": null,
            "visibility": null,
            "width": null
          }
        },
        "86ba3d0f0e52494e8dcd20f956dae85b": {
          "model_module": "@jupyter-widgets/controls",
          "model_name": "ProgressStyleModel",
          "model_module_version": "1.5.0",
          "state": {
            "_model_module": "@jupyter-widgets/controls",
            "_model_module_version": "1.5.0",
            "_model_name": "ProgressStyleModel",
            "_view_count": null,
            "_view_module": "@jupyter-widgets/base",
            "_view_module_version": "1.2.0",
            "_view_name": "StyleView",
            "bar_color": null,
            "description_width": ""
          }
        },
        "b8c2c05f2aca4116abfcec571a92e908": {
          "model_module": "@jupyter-widgets/base",
          "model_name": "LayoutModel",
          "model_module_version": "1.2.0",
          "state": {
            "_model_module": "@jupyter-widgets/base",
            "_model_module_version": "1.2.0",
            "_model_name": "LayoutModel",
            "_view_count": null,
            "_view_module": "@jupyter-widgets/base",
            "_view_module_version": "1.2.0",
            "_view_name": "LayoutView",
            "align_content": null,
            "align_items": null,
            "align_self": null,
            "border": null,
            "bottom": null,
            "display": null,
            "flex": null,
            "flex_flow": null,
            "grid_area": null,
            "grid_auto_columns": null,
            "grid_auto_flow": null,
            "grid_auto_rows": null,
            "grid_column": null,
            "grid_gap": null,
            "grid_row": null,
            "grid_template_areas": null,
            "grid_template_columns": null,
            "grid_template_rows": null,
            "height": null,
            "justify_content": null,
            "justify_items": null,
            "left": null,
            "margin": null,
            "max_height": null,
            "max_width": null,
            "min_height": null,
            "min_width": null,
            "object_fit": null,
            "object_position": null,
            "order": null,
            "overflow": null,
            "overflow_x": null,
            "overflow_y": null,
            "padding": null,
            "right": null,
            "top": null,
            "visibility": null,
            "width": null
          }
        },
        "fdbb3538e8884b3793999e7f952eee67": {
          "model_module": "@jupyter-widgets/controls",
          "model_name": "DescriptionStyleModel",
          "model_module_version": "1.5.0",
          "state": {
            "_model_module": "@jupyter-widgets/controls",
            "_model_module_version": "1.5.0",
            "_model_name": "DescriptionStyleModel",
            "_view_count": null,
            "_view_module": "@jupyter-widgets/base",
            "_view_module_version": "1.2.0",
            "_view_name": "StyleView",
            "description_width": ""
          }
        },
        "15f75c74c2d243589e4c5bf8faba33af": {
          "model_module": "@jupyter-widgets/controls",
          "model_name": "HBoxModel",
          "model_module_version": "1.5.0",
          "state": {
            "_dom_classes": [],
            "_model_module": "@jupyter-widgets/controls",
            "_model_module_version": "1.5.0",
            "_model_name": "HBoxModel",
            "_view_count": null,
            "_view_module": "@jupyter-widgets/controls",
            "_view_module_version": "1.5.0",
            "_view_name": "HBoxView",
            "box_style": "",
            "children": [
              "IPY_MODEL_008334bb6d6a4c4482654a8f92fff5c6",
              "IPY_MODEL_980eb603d86841829c717755fc6eefe4",
              "IPY_MODEL_de062b5e397c4141b6b8a7657f69333d"
            ],
            "layout": "IPY_MODEL_4944e9c4be7a4b9f8e01f3f99b42b63f"
          }
        },
        "008334bb6d6a4c4482654a8f92fff5c6": {
          "model_module": "@jupyter-widgets/controls",
          "model_name": "HTMLModel",
          "model_module_version": "1.5.0",
          "state": {
            "_dom_classes": [],
            "_model_module": "@jupyter-widgets/controls",
            "_model_module_version": "1.5.0",
            "_model_name": "HTMLModel",
            "_view_count": null,
            "_view_module": "@jupyter-widgets/controls",
            "_view_module_version": "1.5.0",
            "_view_name": "HTMLView",
            "description": "",
            "description_tooltip": null,
            "layout": "IPY_MODEL_d63ec14e1d6540949b157484c8375234",
            "placeholder": "​",
            "style": "IPY_MODEL_f8331fb0c852433b931c3e77e623ce07",
            "value": "tokenizer.json: 100%"
          }
        },
        "980eb603d86841829c717755fc6eefe4": {
          "model_module": "@jupyter-widgets/controls",
          "model_name": "FloatProgressModel",
          "model_module_version": "1.5.0",
          "state": {
            "_dom_classes": [],
            "_model_module": "@jupyter-widgets/controls",
            "_model_module_version": "1.5.0",
            "_model_name": "FloatProgressModel",
            "_view_count": null,
            "_view_module": "@jupyter-widgets/controls",
            "_view_module_version": "1.5.0",
            "_view_name": "ProgressView",
            "bar_style": "success",
            "description": "",
            "description_tooltip": null,
            "layout": "IPY_MODEL_24262dd777864009840890a19612e3c2",
            "max": 466062,
            "min": 0,
            "orientation": "horizontal",
            "style": "IPY_MODEL_3fb92301980a4659a30ed95d51a2e862",
            "value": 466062
          }
        },
        "de062b5e397c4141b6b8a7657f69333d": {
          "model_module": "@jupyter-widgets/controls",
          "model_name": "HTMLModel",
          "model_module_version": "1.5.0",
          "state": {
            "_dom_classes": [],
            "_model_module": "@jupyter-widgets/controls",
            "_model_module_version": "1.5.0",
            "_model_name": "HTMLModel",
            "_view_count": null,
            "_view_module": "@jupyter-widgets/controls",
            "_view_module_version": "1.5.0",
            "_view_name": "HTMLView",
            "description": "",
            "description_tooltip": null,
            "layout": "IPY_MODEL_f6671098d44a4b22ac4c3f210925c526",
            "placeholder": "​",
            "style": "IPY_MODEL_cf6f04406d724ae6afea7c8c4f97472f",
            "value": " 466k/466k [00:00&lt;00:00, 4.55MB/s]"
          }
        },
        "4944e9c4be7a4b9f8e01f3f99b42b63f": {
          "model_module": "@jupyter-widgets/base",
          "model_name": "LayoutModel",
          "model_module_version": "1.2.0",
          "state": {
            "_model_module": "@jupyter-widgets/base",
            "_model_module_version": "1.2.0",
            "_model_name": "LayoutModel",
            "_view_count": null,
            "_view_module": "@jupyter-widgets/base",
            "_view_module_version": "1.2.0",
            "_view_name": "LayoutView",
            "align_content": null,
            "align_items": null,
            "align_self": null,
            "border": null,
            "bottom": null,
            "display": null,
            "flex": null,
            "flex_flow": null,
            "grid_area": null,
            "grid_auto_columns": null,
            "grid_auto_flow": null,
            "grid_auto_rows": null,
            "grid_column": null,
            "grid_gap": null,
            "grid_row": null,
            "grid_template_areas": null,
            "grid_template_columns": null,
            "grid_template_rows": null,
            "height": null,
            "justify_content": null,
            "justify_items": null,
            "left": null,
            "margin": null,
            "max_height": null,
            "max_width": null,
            "min_height": null,
            "min_width": null,
            "object_fit": null,
            "object_position": null,
            "order": null,
            "overflow": null,
            "overflow_x": null,
            "overflow_y": null,
            "padding": null,
            "right": null,
            "top": null,
            "visibility": null,
            "width": null
          }
        },
        "d63ec14e1d6540949b157484c8375234": {
          "model_module": "@jupyter-widgets/base",
          "model_name": "LayoutModel",
          "model_module_version": "1.2.0",
          "state": {
            "_model_module": "@jupyter-widgets/base",
            "_model_module_version": "1.2.0",
            "_model_name": "LayoutModel",
            "_view_count": null,
            "_view_module": "@jupyter-widgets/base",
            "_view_module_version": "1.2.0",
            "_view_name": "LayoutView",
            "align_content": null,
            "align_items": null,
            "align_self": null,
            "border": null,
            "bottom": null,
            "display": null,
            "flex": null,
            "flex_flow": null,
            "grid_area": null,
            "grid_auto_columns": null,
            "grid_auto_flow": null,
            "grid_auto_rows": null,
            "grid_column": null,
            "grid_gap": null,
            "grid_row": null,
            "grid_template_areas": null,
            "grid_template_columns": null,
            "grid_template_rows": null,
            "height": null,
            "justify_content": null,
            "justify_items": null,
            "left": null,
            "margin": null,
            "max_height": null,
            "max_width": null,
            "min_height": null,
            "min_width": null,
            "object_fit": null,
            "object_position": null,
            "order": null,
            "overflow": null,
            "overflow_x": null,
            "overflow_y": null,
            "padding": null,
            "right": null,
            "top": null,
            "visibility": null,
            "width": null
          }
        },
        "f8331fb0c852433b931c3e77e623ce07": {
          "model_module": "@jupyter-widgets/controls",
          "model_name": "DescriptionStyleModel",
          "model_module_version": "1.5.0",
          "state": {
            "_model_module": "@jupyter-widgets/controls",
            "_model_module_version": "1.5.0",
            "_model_name": "DescriptionStyleModel",
            "_view_count": null,
            "_view_module": "@jupyter-widgets/base",
            "_view_module_version": "1.2.0",
            "_view_name": "StyleView",
            "description_width": ""
          }
        },
        "24262dd777864009840890a19612e3c2": {
          "model_module": "@jupyter-widgets/base",
          "model_name": "LayoutModel",
          "model_module_version": "1.2.0",
          "state": {
            "_model_module": "@jupyter-widgets/base",
            "_model_module_version": "1.2.0",
            "_model_name": "LayoutModel",
            "_view_count": null,
            "_view_module": "@jupyter-widgets/base",
            "_view_module_version": "1.2.0",
            "_view_name": "LayoutView",
            "align_content": null,
            "align_items": null,
            "align_self": null,
            "border": null,
            "bottom": null,
            "display": null,
            "flex": null,
            "flex_flow": null,
            "grid_area": null,
            "grid_auto_columns": null,
            "grid_auto_flow": null,
            "grid_auto_rows": null,
            "grid_column": null,
            "grid_gap": null,
            "grid_row": null,
            "grid_template_areas": null,
            "grid_template_columns": null,
            "grid_template_rows": null,
            "height": null,
            "justify_content": null,
            "justify_items": null,
            "left": null,
            "margin": null,
            "max_height": null,
            "max_width": null,
            "min_height": null,
            "min_width": null,
            "object_fit": null,
            "object_position": null,
            "order": null,
            "overflow": null,
            "overflow_x": null,
            "overflow_y": null,
            "padding": null,
            "right": null,
            "top": null,
            "visibility": null,
            "width": null
          }
        },
        "3fb92301980a4659a30ed95d51a2e862": {
          "model_module": "@jupyter-widgets/controls",
          "model_name": "ProgressStyleModel",
          "model_module_version": "1.5.0",
          "state": {
            "_model_module": "@jupyter-widgets/controls",
            "_model_module_version": "1.5.0",
            "_model_name": "ProgressStyleModel",
            "_view_count": null,
            "_view_module": "@jupyter-widgets/base",
            "_view_module_version": "1.2.0",
            "_view_name": "StyleView",
            "bar_color": null,
            "description_width": ""
          }
        },
        "f6671098d44a4b22ac4c3f210925c526": {
          "model_module": "@jupyter-widgets/base",
          "model_name": "LayoutModel",
          "model_module_version": "1.2.0",
          "state": {
            "_model_module": "@jupyter-widgets/base",
            "_model_module_version": "1.2.0",
            "_model_name": "LayoutModel",
            "_view_count": null,
            "_view_module": "@jupyter-widgets/base",
            "_view_module_version": "1.2.0",
            "_view_name": "LayoutView",
            "align_content": null,
            "align_items": null,
            "align_self": null,
            "border": null,
            "bottom": null,
            "display": null,
            "flex": null,
            "flex_flow": null,
            "grid_area": null,
            "grid_auto_columns": null,
            "grid_auto_flow": null,
            "grid_auto_rows": null,
            "grid_column": null,
            "grid_gap": null,
            "grid_row": null,
            "grid_template_areas": null,
            "grid_template_columns": null,
            "grid_template_rows": null,
            "height": null,
            "justify_content": null,
            "justify_items": null,
            "left": null,
            "margin": null,
            "max_height": null,
            "max_width": null,
            "min_height": null,
            "min_width": null,
            "object_fit": null,
            "object_position": null,
            "order": null,
            "overflow": null,
            "overflow_x": null,
            "overflow_y": null,
            "padding": null,
            "right": null,
            "top": null,
            "visibility": null,
            "width": null
          }
        },
        "cf6f04406d724ae6afea7c8c4f97472f": {
          "model_module": "@jupyter-widgets/controls",
          "model_name": "DescriptionStyleModel",
          "model_module_version": "1.5.0",
          "state": {
            "_model_module": "@jupyter-widgets/controls",
            "_model_module_version": "1.5.0",
            "_model_name": "DescriptionStyleModel",
            "_view_count": null,
            "_view_module": "@jupyter-widgets/base",
            "_view_module_version": "1.2.0",
            "_view_name": "StyleView",
            "description_width": ""
          }
        },
        "4a351e2323cc4a5e9a57b51478b4a310": {
          "model_module": "@jupyter-widgets/controls",
          "model_name": "HBoxModel",
          "model_module_version": "1.5.0",
          "state": {
            "_dom_classes": [],
            "_model_module": "@jupyter-widgets/controls",
            "_model_module_version": "1.5.0",
            "_model_name": "HBoxModel",
            "_view_count": null,
            "_view_module": "@jupyter-widgets/controls",
            "_view_module_version": "1.5.0",
            "_view_name": "HBoxView",
            "box_style": "",
            "children": [
              "IPY_MODEL_93e4560c97384faf87b4aa116e5d1e60",
              "IPY_MODEL_e84493f405c04e0c9e7a18ebec3f83bc",
              "IPY_MODEL_34b36d2856b4476e8f1f69e340e7e3ec"
            ],
            "layout": "IPY_MODEL_de4b72cf2d7f4170af95dd5cd578370d"
          }
        },
        "93e4560c97384faf87b4aa116e5d1e60": {
          "model_module": "@jupyter-widgets/controls",
          "model_name": "HTMLModel",
          "model_module_version": "1.5.0",
          "state": {
            "_dom_classes": [],
            "_model_module": "@jupyter-widgets/controls",
            "_model_module_version": "1.5.0",
            "_model_name": "HTMLModel",
            "_view_count": null,
            "_view_module": "@jupyter-widgets/controls",
            "_view_module_version": "1.5.0",
            "_view_name": "HTMLView",
            "description": "",
            "description_tooltip": null,
            "layout": "IPY_MODEL_37b486917ac743c69d8479ab44d4682f",
            "placeholder": "​",
            "style": "IPY_MODEL_5420293dfb664f2e86d8518162891d9c",
            "value": "config.json: 100%"
          }
        },
        "e84493f405c04e0c9e7a18ebec3f83bc": {
          "model_module": "@jupyter-widgets/controls",
          "model_name": "FloatProgressModel",
          "model_module_version": "1.5.0",
          "state": {
            "_dom_classes": [],
            "_model_module": "@jupyter-widgets/controls",
            "_model_module_version": "1.5.0",
            "_model_name": "FloatProgressModel",
            "_view_count": null,
            "_view_module": "@jupyter-widgets/controls",
            "_view_module_version": "1.5.0",
            "_view_name": "ProgressView",
            "bar_style": "success",
            "description": "",
            "description_tooltip": null,
            "layout": "IPY_MODEL_4de49c81918f463789006c2040054518",
            "max": 570,
            "min": 0,
            "orientation": "horizontal",
            "style": "IPY_MODEL_e75eca60651f4563b2211f348c0002ce",
            "value": 570
          }
        },
        "34b36d2856b4476e8f1f69e340e7e3ec": {
          "model_module": "@jupyter-widgets/controls",
          "model_name": "HTMLModel",
          "model_module_version": "1.5.0",
          "state": {
            "_dom_classes": [],
            "_model_module": "@jupyter-widgets/controls",
            "_model_module_version": "1.5.0",
            "_model_name": "HTMLModel",
            "_view_count": null,
            "_view_module": "@jupyter-widgets/controls",
            "_view_module_version": "1.5.0",
            "_view_name": "HTMLView",
            "description": "",
            "description_tooltip": null,
            "layout": "IPY_MODEL_e45035b5c83b4498aeadce312ba40e51",
            "placeholder": "​",
            "style": "IPY_MODEL_c4e4b6f5862e424fb7cdba1dbc45bc50",
            "value": " 570/570 [00:00&lt;00:00, 37.9kB/s]"
          }
        },
        "de4b72cf2d7f4170af95dd5cd578370d": {
          "model_module": "@jupyter-widgets/base",
          "model_name": "LayoutModel",
          "model_module_version": "1.2.0",
          "state": {
            "_model_module": "@jupyter-widgets/base",
            "_model_module_version": "1.2.0",
            "_model_name": "LayoutModel",
            "_view_count": null,
            "_view_module": "@jupyter-widgets/base",
            "_view_module_version": "1.2.0",
            "_view_name": "LayoutView",
            "align_content": null,
            "align_items": null,
            "align_self": null,
            "border": null,
            "bottom": null,
            "display": null,
            "flex": null,
            "flex_flow": null,
            "grid_area": null,
            "grid_auto_columns": null,
            "grid_auto_flow": null,
            "grid_auto_rows": null,
            "grid_column": null,
            "grid_gap": null,
            "grid_row": null,
            "grid_template_areas": null,
            "grid_template_columns": null,
            "grid_template_rows": null,
            "height": null,
            "justify_content": null,
            "justify_items": null,
            "left": null,
            "margin": null,
            "max_height": null,
            "max_width": null,
            "min_height": null,
            "min_width": null,
            "object_fit": null,
            "object_position": null,
            "order": null,
            "overflow": null,
            "overflow_x": null,
            "overflow_y": null,
            "padding": null,
            "right": null,
            "top": null,
            "visibility": null,
            "width": null
          }
        },
        "37b486917ac743c69d8479ab44d4682f": {
          "model_module": "@jupyter-widgets/base",
          "model_name": "LayoutModel",
          "model_module_version": "1.2.0",
          "state": {
            "_model_module": "@jupyter-widgets/base",
            "_model_module_version": "1.2.0",
            "_model_name": "LayoutModel",
            "_view_count": null,
            "_view_module": "@jupyter-widgets/base",
            "_view_module_version": "1.2.0",
            "_view_name": "LayoutView",
            "align_content": null,
            "align_items": null,
            "align_self": null,
            "border": null,
            "bottom": null,
            "display": null,
            "flex": null,
            "flex_flow": null,
            "grid_area": null,
            "grid_auto_columns": null,
            "grid_auto_flow": null,
            "grid_auto_rows": null,
            "grid_column": null,
            "grid_gap": null,
            "grid_row": null,
            "grid_template_areas": null,
            "grid_template_columns": null,
            "grid_template_rows": null,
            "height": null,
            "justify_content": null,
            "justify_items": null,
            "left": null,
            "margin": null,
            "max_height": null,
            "max_width": null,
            "min_height": null,
            "min_width": null,
            "object_fit": null,
            "object_position": null,
            "order": null,
            "overflow": null,
            "overflow_x": null,
            "overflow_y": null,
            "padding": null,
            "right": null,
            "top": null,
            "visibility": null,
            "width": null
          }
        },
        "5420293dfb664f2e86d8518162891d9c": {
          "model_module": "@jupyter-widgets/controls",
          "model_name": "DescriptionStyleModel",
          "model_module_version": "1.5.0",
          "state": {
            "_model_module": "@jupyter-widgets/controls",
            "_model_module_version": "1.5.0",
            "_model_name": "DescriptionStyleModel",
            "_view_count": null,
            "_view_module": "@jupyter-widgets/base",
            "_view_module_version": "1.2.0",
            "_view_name": "StyleView",
            "description_width": ""
          }
        },
        "4de49c81918f463789006c2040054518": {
          "model_module": "@jupyter-widgets/base",
          "model_name": "LayoutModel",
          "model_module_version": "1.2.0",
          "state": {
            "_model_module": "@jupyter-widgets/base",
            "_model_module_version": "1.2.0",
            "_model_name": "LayoutModel",
            "_view_count": null,
            "_view_module": "@jupyter-widgets/base",
            "_view_module_version": "1.2.0",
            "_view_name": "LayoutView",
            "align_content": null,
            "align_items": null,
            "align_self": null,
            "border": null,
            "bottom": null,
            "display": null,
            "flex": null,
            "flex_flow": null,
            "grid_area": null,
            "grid_auto_columns": null,
            "grid_auto_flow": null,
            "grid_auto_rows": null,
            "grid_column": null,
            "grid_gap": null,
            "grid_row": null,
            "grid_template_areas": null,
            "grid_template_columns": null,
            "grid_template_rows": null,
            "height": null,
            "justify_content": null,
            "justify_items": null,
            "left": null,
            "margin": null,
            "max_height": null,
            "max_width": null,
            "min_height": null,
            "min_width": null,
            "object_fit": null,
            "object_position": null,
            "order": null,
            "overflow": null,
            "overflow_x": null,
            "overflow_y": null,
            "padding": null,
            "right": null,
            "top": null,
            "visibility": null,
            "width": null
          }
        },
        "e75eca60651f4563b2211f348c0002ce": {
          "model_module": "@jupyter-widgets/controls",
          "model_name": "ProgressStyleModel",
          "model_module_version": "1.5.0",
          "state": {
            "_model_module": "@jupyter-widgets/controls",
            "_model_module_version": "1.5.0",
            "_model_name": "ProgressStyleModel",
            "_view_count": null,
            "_view_module": "@jupyter-widgets/base",
            "_view_module_version": "1.2.0",
            "_view_name": "StyleView",
            "bar_color": null,
            "description_width": ""
          }
        },
        "e45035b5c83b4498aeadce312ba40e51": {
          "model_module": "@jupyter-widgets/base",
          "model_name": "LayoutModel",
          "model_module_version": "1.2.0",
          "state": {
            "_model_module": "@jupyter-widgets/base",
            "_model_module_version": "1.2.0",
            "_model_name": "LayoutModel",
            "_view_count": null,
            "_view_module": "@jupyter-widgets/base",
            "_view_module_version": "1.2.0",
            "_view_name": "LayoutView",
            "align_content": null,
            "align_items": null,
            "align_self": null,
            "border": null,
            "bottom": null,
            "display": null,
            "flex": null,
            "flex_flow": null,
            "grid_area": null,
            "grid_auto_columns": null,
            "grid_auto_flow": null,
            "grid_auto_rows": null,
            "grid_column": null,
            "grid_gap": null,
            "grid_row": null,
            "grid_template_areas": null,
            "grid_template_columns": null,
            "grid_template_rows": null,
            "height": null,
            "justify_content": null,
            "justify_items": null,
            "left": null,
            "margin": null,
            "max_height": null,
            "max_width": null,
            "min_height": null,
            "min_width": null,
            "object_fit": null,
            "object_position": null,
            "order": null,
            "overflow": null,
            "overflow_x": null,
            "overflow_y": null,
            "padding": null,
            "right": null,
            "top": null,
            "visibility": null,
            "width": null
          }
        },
        "c4e4b6f5862e424fb7cdba1dbc45bc50": {
          "model_module": "@jupyter-widgets/controls",
          "model_name": "DescriptionStyleModel",
          "model_module_version": "1.5.0",
          "state": {
            "_model_module": "@jupyter-widgets/controls",
            "_model_module_version": "1.5.0",
            "_model_name": "DescriptionStyleModel",
            "_view_count": null,
            "_view_module": "@jupyter-widgets/base",
            "_view_module_version": "1.2.0",
            "_view_name": "StyleView",
            "description_width": ""
          }
        },
        "fba59c9b36c54256b61d941e6eb4d763": {
          "model_module": "@jupyter-widgets/controls",
          "model_name": "HBoxModel",
          "model_module_version": "1.5.0",
          "state": {
            "_dom_classes": [],
            "_model_module": "@jupyter-widgets/controls",
            "_model_module_version": "1.5.0",
            "_model_name": "HBoxModel",
            "_view_count": null,
            "_view_module": "@jupyter-widgets/controls",
            "_view_module_version": "1.5.0",
            "_view_name": "HBoxView",
            "box_style": "",
            "children": [
              "IPY_MODEL_4386c5dce8ba4b3190cbcde867c566e3",
              "IPY_MODEL_7b91ab46fe7747268bc4277ff720c2ef",
              "IPY_MODEL_25e8517623a74fadb3f3752e853172d5"
            ],
            "layout": "IPY_MODEL_cf3de2f1595345ce9108c1f672a9a281"
          }
        },
        "4386c5dce8ba4b3190cbcde867c566e3": {
          "model_module": "@jupyter-widgets/controls",
          "model_name": "HTMLModel",
          "model_module_version": "1.5.0",
          "state": {
            "_dom_classes": [],
            "_model_module": "@jupyter-widgets/controls",
            "_model_module_version": "1.5.0",
            "_model_name": "HTMLModel",
            "_view_count": null,
            "_view_module": "@jupyter-widgets/controls",
            "_view_module_version": "1.5.0",
            "_view_name": "HTMLView",
            "description": "",
            "description_tooltip": null,
            "layout": "IPY_MODEL_cb6148c1322b4c8d8eff2c3b021a771c",
            "placeholder": "​",
            "style": "IPY_MODEL_ddd0acfda3f54006ab18592265a32661",
            "value": "model.safetensors: 100%"
          }
        },
        "7b91ab46fe7747268bc4277ff720c2ef": {
          "model_module": "@jupyter-widgets/controls",
          "model_name": "FloatProgressModel",
          "model_module_version": "1.5.0",
          "state": {
            "_dom_classes": [],
            "_model_module": "@jupyter-widgets/controls",
            "_model_module_version": "1.5.0",
            "_model_name": "FloatProgressModel",
            "_view_count": null,
            "_view_module": "@jupyter-widgets/controls",
            "_view_module_version": "1.5.0",
            "_view_name": "ProgressView",
            "bar_style": "success",
            "description": "",
            "description_tooltip": null,
            "layout": "IPY_MODEL_74c74d2614b44be78a66239a34cbc48c",
            "max": 440449768,
            "min": 0,
            "orientation": "horizontal",
            "style": "IPY_MODEL_44f580c1902b45999bbb3bbe2446b592",
            "value": 440449768
          }
        },
        "25e8517623a74fadb3f3752e853172d5": {
          "model_module": "@jupyter-widgets/controls",
          "model_name": "HTMLModel",
          "model_module_version": "1.5.0",
          "state": {
            "_dom_classes": [],
            "_model_module": "@jupyter-widgets/controls",
            "_model_module_version": "1.5.0",
            "_model_name": "HTMLModel",
            "_view_count": null,
            "_view_module": "@jupyter-widgets/controls",
            "_view_module_version": "1.5.0",
            "_view_name": "HTMLView",
            "description": "",
            "description_tooltip": null,
            "layout": "IPY_MODEL_17dd96bd4301489e943501277698b88c",
            "placeholder": "​",
            "style": "IPY_MODEL_efd980cd68e04b839119b08a5447fdb0",
            "value": " 440M/440M [00:01&lt;00:00, 248MB/s]"
          }
        },
        "cf3de2f1595345ce9108c1f672a9a281": {
          "model_module": "@jupyter-widgets/base",
          "model_name": "LayoutModel",
          "model_module_version": "1.2.0",
          "state": {
            "_model_module": "@jupyter-widgets/base",
            "_model_module_version": "1.2.0",
            "_model_name": "LayoutModel",
            "_view_count": null,
            "_view_module": "@jupyter-widgets/base",
            "_view_module_version": "1.2.0",
            "_view_name": "LayoutView",
            "align_content": null,
            "align_items": null,
            "align_self": null,
            "border": null,
            "bottom": null,
            "display": null,
            "flex": null,
            "flex_flow": null,
            "grid_area": null,
            "grid_auto_columns": null,
            "grid_auto_flow": null,
            "grid_auto_rows": null,
            "grid_column": null,
            "grid_gap": null,
            "grid_row": null,
            "grid_template_areas": null,
            "grid_template_columns": null,
            "grid_template_rows": null,
            "height": null,
            "justify_content": null,
            "justify_items": null,
            "left": null,
            "margin": null,
            "max_height": null,
            "max_width": null,
            "min_height": null,
            "min_width": null,
            "object_fit": null,
            "object_position": null,
            "order": null,
            "overflow": null,
            "overflow_x": null,
            "overflow_y": null,
            "padding": null,
            "right": null,
            "top": null,
            "visibility": null,
            "width": null
          }
        },
        "cb6148c1322b4c8d8eff2c3b021a771c": {
          "model_module": "@jupyter-widgets/base",
          "model_name": "LayoutModel",
          "model_module_version": "1.2.0",
          "state": {
            "_model_module": "@jupyter-widgets/base",
            "_model_module_version": "1.2.0",
            "_model_name": "LayoutModel",
            "_view_count": null,
            "_view_module": "@jupyter-widgets/base",
            "_view_module_version": "1.2.0",
            "_view_name": "LayoutView",
            "align_content": null,
            "align_items": null,
            "align_self": null,
            "border": null,
            "bottom": null,
            "display": null,
            "flex": null,
            "flex_flow": null,
            "grid_area": null,
            "grid_auto_columns": null,
            "grid_auto_flow": null,
            "grid_auto_rows": null,
            "grid_column": null,
            "grid_gap": null,
            "grid_row": null,
            "grid_template_areas": null,
            "grid_template_columns": null,
            "grid_template_rows": null,
            "height": null,
            "justify_content": null,
            "justify_items": null,
            "left": null,
            "margin": null,
            "max_height": null,
            "max_width": null,
            "min_height": null,
            "min_width": null,
            "object_fit": null,
            "object_position": null,
            "order": null,
            "overflow": null,
            "overflow_x": null,
            "overflow_y": null,
            "padding": null,
            "right": null,
            "top": null,
            "visibility": null,
            "width": null
          }
        },
        "ddd0acfda3f54006ab18592265a32661": {
          "model_module": "@jupyter-widgets/controls",
          "model_name": "DescriptionStyleModel",
          "model_module_version": "1.5.0",
          "state": {
            "_model_module": "@jupyter-widgets/controls",
            "_model_module_version": "1.5.0",
            "_model_name": "DescriptionStyleModel",
            "_view_count": null,
            "_view_module": "@jupyter-widgets/base",
            "_view_module_version": "1.2.0",
            "_view_name": "StyleView",
            "description_width": ""
          }
        },
        "74c74d2614b44be78a66239a34cbc48c": {
          "model_module": "@jupyter-widgets/base",
          "model_name": "LayoutModel",
          "model_module_version": "1.2.0",
          "state": {
            "_model_module": "@jupyter-widgets/base",
            "_model_module_version": "1.2.0",
            "_model_name": "LayoutModel",
            "_view_count": null,
            "_view_module": "@jupyter-widgets/base",
            "_view_module_version": "1.2.0",
            "_view_name": "LayoutView",
            "align_content": null,
            "align_items": null,
            "align_self": null,
            "border": null,
            "bottom": null,
            "display": null,
            "flex": null,
            "flex_flow": null,
            "grid_area": null,
            "grid_auto_columns": null,
            "grid_auto_flow": null,
            "grid_auto_rows": null,
            "grid_column": null,
            "grid_gap": null,
            "grid_row": null,
            "grid_template_areas": null,
            "grid_template_columns": null,
            "grid_template_rows": null,
            "height": null,
            "justify_content": null,
            "justify_items": null,
            "left": null,
            "margin": null,
            "max_height": null,
            "max_width": null,
            "min_height": null,
            "min_width": null,
            "object_fit": null,
            "object_position": null,
            "order": null,
            "overflow": null,
            "overflow_x": null,
            "overflow_y": null,
            "padding": null,
            "right": null,
            "top": null,
            "visibility": null,
            "width": null
          }
        },
        "44f580c1902b45999bbb3bbe2446b592": {
          "model_module": "@jupyter-widgets/controls",
          "model_name": "ProgressStyleModel",
          "model_module_version": "1.5.0",
          "state": {
            "_model_module": "@jupyter-widgets/controls",
            "_model_module_version": "1.5.0",
            "_model_name": "ProgressStyleModel",
            "_view_count": null,
            "_view_module": "@jupyter-widgets/base",
            "_view_module_version": "1.2.0",
            "_view_name": "StyleView",
            "bar_color": null,
            "description_width": ""
          }
        },
        "17dd96bd4301489e943501277698b88c": {
          "model_module": "@jupyter-widgets/base",
          "model_name": "LayoutModel",
          "model_module_version": "1.2.0",
          "state": {
            "_model_module": "@jupyter-widgets/base",
            "_model_module_version": "1.2.0",
            "_model_name": "LayoutModel",
            "_view_count": null,
            "_view_module": "@jupyter-widgets/base",
            "_view_module_version": "1.2.0",
            "_view_name": "LayoutView",
            "align_content": null,
            "align_items": null,
            "align_self": null,
            "border": null,
            "bottom": null,
            "display": null,
            "flex": null,
            "flex_flow": null,
            "grid_area": null,
            "grid_auto_columns": null,
            "grid_auto_flow": null,
            "grid_auto_rows": null,
            "grid_column": null,
            "grid_gap": null,
            "grid_row": null,
            "grid_template_areas": null,
            "grid_template_columns": null,
            "grid_template_rows": null,
            "height": null,
            "justify_content": null,
            "justify_items": null,
            "left": null,
            "margin": null,
            "max_height": null,
            "max_width": null,
            "min_height": null,
            "min_width": null,
            "object_fit": null,
            "object_position": null,
            "order": null,
            "overflow": null,
            "overflow_x": null,
            "overflow_y": null,
            "padding": null,
            "right": null,
            "top": null,
            "visibility": null,
            "width": null
          }
        },
        "efd980cd68e04b839119b08a5447fdb0": {
          "model_module": "@jupyter-widgets/controls",
          "model_name": "DescriptionStyleModel",
          "model_module_version": "1.5.0",
          "state": {
            "_model_module": "@jupyter-widgets/controls",
            "_model_module_version": "1.5.0",
            "_model_name": "DescriptionStyleModel",
            "_view_count": null,
            "_view_module": "@jupyter-widgets/base",
            "_view_module_version": "1.2.0",
            "_view_name": "StyleView",
            "description_width": ""
          }
        }
      }
    }
  },
  "cells": [
    {
      "cell_type": "markdown",
      "source": [
        "# Method 2: BERT EMbeddings & FAISS Index"
      ],
      "metadata": {
        "id": "kBGsk1nL7ssy"
      }
    },
    {
      "cell_type": "code",
      "source": [
        "!pip install faiss-gpu"
      ],
      "metadata": {
        "colab": {
          "base_uri": "https://localhost:8080/"
        },
        "id": "olZ63e-tAfWt",
        "outputId": "4fb5a01f-f35a-4cab-c410-0a7f53debf3c"
      },
      "execution_count": 2,
      "outputs": [
        {
          "output_type": "stream",
          "name": "stdout",
          "text": [
            "Collecting faiss-gpu\n",
            "  Downloading faiss_gpu-1.7.2-cp310-cp310-manylinux_2_17_x86_64.manylinux2014_x86_64.whl.metadata (1.4 kB)\n",
            "Downloading faiss_gpu-1.7.2-cp310-cp310-manylinux_2_17_x86_64.manylinux2014_x86_64.whl (85.5 MB)\n",
            "\u001b[2K   \u001b[90m━━━━━━━━━━━━━━━━━━━━━━━━━━━━━━━━━━━━━━━━\u001b[0m \u001b[32m85.5/85.5 MB\u001b[0m \u001b[31m23.1 MB/s\u001b[0m eta \u001b[36m0:00:00\u001b[0m\n",
            "\u001b[?25hInstalling collected packages: faiss-gpu\n",
            "Successfully installed faiss-gpu-1.7.2\n"
          ]
        }
      ]
    },
    {
      "cell_type": "markdown",
      "source": [
        "## Load Packages"
      ],
      "metadata": {
        "id": "HFgSBdSx53x6"
      }
    },
    {
      "cell_type": "code",
      "source": [
        "import numpy as np\n",
        "import pandas as pd\n",
        "from google.colab import drive\n",
        "from transformers import BertTokenizer, BertModel\n",
        "from torch.utils.data import DataLoader\n",
        "import torch\n",
        "from huggingface_hub import login\n",
        "import faiss\n",
        "from faiss import normalize_L2\n",
        "import matplotlib.pyplot as plt\n",
        "from scipy.stats import ttest_ind, f_oneway"
      ],
      "metadata": {
        "id": "51S73U4nRjPF"
      },
      "execution_count": 3,
      "outputs": []
    },
    {
      "cell_type": "code",
      "source": [
        "drive.mount('/content/drive')"
      ],
      "metadata": {
        "colab": {
          "base_uri": "https://localhost:8080/"
        },
        "id": "0fuN3yY5RgFi",
        "outputId": "65d86016-3c8c-4234-f26a-f56be8cea5a6"
      },
      "execution_count": 4,
      "outputs": [
        {
          "output_type": "stream",
          "name": "stdout",
          "text": [
            "Mounted at /content/drive\n"
          ]
        }
      ]
    },
    {
      "cell_type": "markdown",
      "source": [
        "## Load Data"
      ],
      "metadata": {
        "id": "UcXFjXlf59p9"
      }
    },
    {
      "cell_type": "code",
      "source": [
        "file_path_1 = \"/content/drive/MyDrive/QSS_45/trump_all_df_date.csv\"\n",
        "file_path_2 = \"/content/drive/MyDrive/QSS_45/trump_events_df_date.csv\"\n",
        "\n",
        "trump_all_df_date = pd.read_csv(file_path_1)\n",
        "trump_events_df_date = pd.read_csv(file_path_2)"
      ],
      "metadata": {
        "id": "wucLKhQHSqLF"
      },
      "execution_count": 5,
      "outputs": []
    },
    {
      "cell_type": "markdown",
      "source": [
        "## BERT Embeddings"
      ],
      "metadata": {
        "id": "IuJot3QM6BMz"
      }
    },
    {
      "cell_type": "code",
      "source": [
        "# Convert the 'cleaned_content' column to strings and then encode\n",
        "trump_all_df_date['cleaned_content'] = trump_all_df_date['cleaned_content'].astype(str)\n",
        "\n",
        "# Similarly, for the event descriptions\n",
        "trump_events_df_date['event'] = trump_events_df_date['event'].astype(str)\n",
        "\n"
      ],
      "metadata": {
        "id": "2JRt7LgD_LyC"
      },
      "execution_count": 6,
      "outputs": []
    },
    {
      "cell_type": "code",
      "source": [
        "# Load pretrained BERT model and tokenizer\n",
        "tokenizer = BertTokenizer.from_pretrained('bert-base-uncased')\n",
        "model = BertModel.from_pretrained('bert-base-uncased')\n"
      ],
      "metadata": {
        "colab": {
          "base_uri": "https://localhost:8080/",
          "height": 284,
          "referenced_widgets": [
            "4e6d47d37ef94c56a8c252b8843f1cf7",
            "7f7710cf4ad047a1b7246d0234a3d8aa",
            "de07bdbc4abe44ff99e8205509f789b2",
            "5a1694ef9b40487799733c379d0e60cd",
            "f1dc8f11cae64af3a6b3cde55207b9fa",
            "da734b00e7484506b38fca5c4b7f42cc",
            "8dede81485bb4847b5c30d532c1d73db",
            "2e7da3ee00624e82ab34a50ed61e04f2",
            "8f884c77a6084cc2b64f8f099d1810fd",
            "1bd4fc1166fd42c8aa755c3d271120bc",
            "ffff765fde2e45889e96045649acba23",
            "d2727ce622cd46039de86eb0507fbbc2",
            "4c86b810897448c3ad906717f9138bb4",
            "89e6e034057046b1a84413853e675c3b",
            "f961386ec5aa43bfb658b712a1cf6410",
            "a354e42955ae42f58dd81fcfc7af19b7",
            "af03fe6c8d3f46b2b046584a1a616c82",
            "0a5dc402c47f46d6bfebd27aa517c00c",
            "7d3804d511f0429bb3ef4d844d7395d0",
            "86ba3d0f0e52494e8dcd20f956dae85b",
            "b8c2c05f2aca4116abfcec571a92e908",
            "fdbb3538e8884b3793999e7f952eee67",
            "15f75c74c2d243589e4c5bf8faba33af",
            "008334bb6d6a4c4482654a8f92fff5c6",
            "980eb603d86841829c717755fc6eefe4",
            "de062b5e397c4141b6b8a7657f69333d",
            "4944e9c4be7a4b9f8e01f3f99b42b63f",
            "d63ec14e1d6540949b157484c8375234",
            "f8331fb0c852433b931c3e77e623ce07",
            "24262dd777864009840890a19612e3c2",
            "3fb92301980a4659a30ed95d51a2e862",
            "f6671098d44a4b22ac4c3f210925c526",
            "cf6f04406d724ae6afea7c8c4f97472f",
            "4a351e2323cc4a5e9a57b51478b4a310",
            "93e4560c97384faf87b4aa116e5d1e60",
            "e84493f405c04e0c9e7a18ebec3f83bc",
            "34b36d2856b4476e8f1f69e340e7e3ec",
            "de4b72cf2d7f4170af95dd5cd578370d",
            "37b486917ac743c69d8479ab44d4682f",
            "5420293dfb664f2e86d8518162891d9c",
            "4de49c81918f463789006c2040054518",
            "e75eca60651f4563b2211f348c0002ce",
            "e45035b5c83b4498aeadce312ba40e51",
            "c4e4b6f5862e424fb7cdba1dbc45bc50",
            "fba59c9b36c54256b61d941e6eb4d763",
            "4386c5dce8ba4b3190cbcde867c566e3",
            "7b91ab46fe7747268bc4277ff720c2ef",
            "25e8517623a74fadb3f3752e853172d5",
            "cf3de2f1595345ce9108c1f672a9a281",
            "cb6148c1322b4c8d8eff2c3b021a771c",
            "ddd0acfda3f54006ab18592265a32661",
            "74c74d2614b44be78a66239a34cbc48c",
            "44f580c1902b45999bbb3bbe2446b592",
            "17dd96bd4301489e943501277698b88c",
            "efd980cd68e04b839119b08a5447fdb0"
          ]
        },
        "id": "8IWuTua9-TXL",
        "outputId": "dc59d88d-7e2a-4fff-ef37-4a59d2084a3c"
      },
      "execution_count": 7,
      "outputs": [
        {
          "output_type": "stream",
          "name": "stderr",
          "text": [
            "/usr/local/lib/python3.10/dist-packages/huggingface_hub/utils/_auth.py:94: UserWarning: \n",
            "The secret `HF_TOKEN` does not exist in your Colab secrets.\n",
            "To authenticate with the Hugging Face Hub, create a token in your settings tab (https://huggingface.co/settings/tokens), set it as secret in your Google Colab and restart your session.\n",
            "You will be able to reuse this secret in all of your notebooks.\n",
            "Please note that authentication is recommended but still optional to access public models or datasets.\n",
            "  warnings.warn(\n"
          ]
        },
        {
          "output_type": "display_data",
          "data": {
            "text/plain": [
              "tokenizer_config.json:   0%|          | 0.00/48.0 [00:00<?, ?B/s]"
            ],
            "application/vnd.jupyter.widget-view+json": {
              "version_major": 2,
              "version_minor": 0,
              "model_id": "4e6d47d37ef94c56a8c252b8843f1cf7"
            }
          },
          "metadata": {}
        },
        {
          "output_type": "display_data",
          "data": {
            "text/plain": [
              "vocab.txt:   0%|          | 0.00/232k [00:00<?, ?B/s]"
            ],
            "application/vnd.jupyter.widget-view+json": {
              "version_major": 2,
              "version_minor": 0,
              "model_id": "d2727ce622cd46039de86eb0507fbbc2"
            }
          },
          "metadata": {}
        },
        {
          "output_type": "display_data",
          "data": {
            "text/plain": [
              "tokenizer.json:   0%|          | 0.00/466k [00:00<?, ?B/s]"
            ],
            "application/vnd.jupyter.widget-view+json": {
              "version_major": 2,
              "version_minor": 0,
              "model_id": "15f75c74c2d243589e4c5bf8faba33af"
            }
          },
          "metadata": {}
        },
        {
          "output_type": "display_data",
          "data": {
            "text/plain": [
              "config.json:   0%|          | 0.00/570 [00:00<?, ?B/s]"
            ],
            "application/vnd.jupyter.widget-view+json": {
              "version_major": 2,
              "version_minor": 0,
              "model_id": "4a351e2323cc4a5e9a57b51478b4a310"
            }
          },
          "metadata": {}
        },
        {
          "output_type": "display_data",
          "data": {
            "text/plain": [
              "model.safetensors:   0%|          | 0.00/440M [00:00<?, ?B/s]"
            ],
            "application/vnd.jupyter.widget-view+json": {
              "version_major": 2,
              "version_minor": 0,
              "model_id": "fba59c9b36c54256b61d941e6eb4d763"
            }
          },
          "metadata": {}
        }
      ]
    },
    {
      "cell_type": "code",
      "execution_count": 8,
      "metadata": {
        "id": "sTsJll7qQvKa"
      },
      "outputs": [],
      "source": [
        "# Function to encode a batch of texts\n",
        "def encode_batch(texts, tokenizer, model, device='cuda'):\n",
        "    inputs = tokenizer(texts, return_tensors='pt', truncation=True, padding=True, max_length=512)\n",
        "    inputs = {key: value.to(device) for key, value in inputs.items()}  # Move inputs to device\n",
        "    outputs = model(**inputs)\n",
        "    embeddings = outputs.last_hidden_state.mean(dim=1)  # Average pooling over token embeddings\n",
        "    return embeddings.cpu().detach().numpy()  # Move back to CPU\n",
        "\n",
        "# Batch processing for the dataframe\n",
        "def batch_encode(df, column, batch_size=32, tokenizer=None, model=None):\n",
        "    device = torch.device('cuda' if torch.cuda.is_available() else 'cpu')\n",
        "    model.to(device)\n",
        "    texts = df[column].tolist()\n",
        "    dataloader = DataLoader(texts, batch_size=batch_size, shuffle=False)\n",
        "\n",
        "    all_embeddings = []\n",
        "    for batch in dataloader:\n",
        "        embeddings = encode_batch(batch, tokenizer, model, device)\n",
        "        all_embeddings.extend(embeddings)\n",
        "\n",
        "    return all_embeddings\n"
      ]
    },
    {
      "cell_type": "code",
      "source": [
        "# Encode event descriptions\n",
        "trump_events_df_date['event_embedding'] = batch_encode(\n",
        "    trump_events_df_date, column='event', tokenizer=tokenizer, model=model)\n"
      ],
      "metadata": {
        "id": "vcJjjprw96h7"
      },
      "execution_count": 9,
      "outputs": []
    },
    {
      "cell_type": "code",
      "source": [
        "trump_all_df_date['tweet_embedding'] = batch_encode(\n",
        "    trump_all_df_date, column = 'cleaned_content', tokenizer=tokenizer, model=model\n",
        ")"
      ],
      "metadata": {
        "id": "T-p0GX_Y99jS"
      },
      "execution_count": 10,
      "outputs": []
    },
    {
      "cell_type": "code",
      "source": [
        "\n",
        "# Save embeddings\n",
        "np.save('event_embeddings.npy', np.array(trump_events_df_date['event_embedding'].tolist()))\n",
        "np.save('tweet_embeddings.npy', np.array(trump_all_df_date['tweet_embedding'].tolist()))\n",
        "\n",
        "\n",
        "\n"
      ],
      "metadata": {
        "id": "fBub08ZeXjU4"
      },
      "execution_count": 11,
      "outputs": []
    },
    {
      "cell_type": "markdown",
      "source": [
        "## Create Matches using FAISS index"
      ],
      "metadata": {
        "id": "_6bxgIcz6rfs"
      }
    },
    {
      "cell_type": "code",
      "source": [
        "# Load precomputed embeddings\n",
        "event_embeddings = np.load(\"event_embeddings.npy\")\n",
        "tweet_embeddings = np.load(\"tweet_embeddings.npy\")\n",
        "\n",
        "# Assuming your DataFrames have 'date' columns for matching\n",
        "event_dates = pd.to_datetime(trump_events_df_date['date'])\n",
        "tweet_dates = pd.to_datetime(trump_all_df_date['date'])\n",
        "\n",
        "# Convert embeddings to float32 (FAISS requires this)\n",
        "event_embeddings = event_embeddings.astype('float32')\n",
        "tweet_embeddings = tweet_embeddings.astype('float32')\n",
        "\n",
        "# Define cosine similarity threshold\n",
        "cosine_similarity_threshold = 0.98\n",
        "\n",
        "# Helper to convert cosine similarity to FAISS L2 distance\n",
        "def cosine_to_l2_threshold(cos_sim, dim):\n",
        "    return 2 * (1 - cos_sim) * dim\n",
        "\n",
        "l2_threshold = cosine_to_l2_threshold(cosine_similarity_threshold, event_embeddings.shape[1])\n",
        "\n",
        "# Create FAISS index (IVF for faster search)\n",
        "index = faiss.index_factory(event_embeddings.shape[1], \"IVF100,Flat\")\n",
        "index.train(event_embeddings)\n",
        "index.add(event_embeddings)\n",
        "index.nprobe = 20  # Search 20 clusters for higher precision\n",
        "\n",
        "# Preallocate results\n",
        "matches = []\n",
        "\n",
        "# Loop through events\n",
        "for i, event_date in enumerate(event_dates):\n",
        "    # Filter tweets within ±3 days\n",
        "    time_window = pd.Timedelta(days=3)\n",
        "    mask = (tweet_dates >= event_date - time_window) & (tweet_dates <= event_date + time_window)\n",
        "    filtered_tweets = trump_all_df_date[mask]\n",
        "\n",
        "    if not filtered_tweets.empty:\n",
        "        filtered_embeddings = tweet_embeddings[mask]\n",
        "\n",
        "        # Add embeddings to FAISS index\n",
        "        index.reset()  # Clear previous data\n",
        "        index.add(filtered_embeddings)\n",
        "\n",
        "        # Query the index for nearest neighbors of the event embedding\n",
        "        distances, indices = index.search(event_embeddings[i:i+1], k=len(filtered_tweets))  # Search all matches\n",
        "\n",
        "        # Filter matches based on L2 distance threshold\n",
        "        valid_indices = np.where(distances[0] <= l2_threshold)[0]\n",
        "\n",
        "        if len(valid_indices) > 0:\n",
        "            # Match event id and tweet ids\n",
        "            matched_tweets = filtered_tweets.iloc[indices[0][valid_indices]]\n",
        "            matches.append({\n",
        "                \"event_id\": i,\n",
        "                \"event_description\": trump_events_df_date.iloc[i]['event'],  # Store event description\n",
        "                \"event_date\": event_date,\n",
        "                \"matched_tweet_ids\": matched_tweets.index.tolist(),\n",
        "                \"matched_tweet_texts\": matched_tweets['cleaned_content'].tolist(),  # Store tweet content\n",
        "                \"similarity_scores\": [1 - (d / (2 * event_embeddings.shape[1])) for d in distances[0][valid_indices]]\n",
        "            })\n",
        "        else:\n",
        "            matches.append({\n",
        "                \"event_id\": i,\n",
        "                \"event_description\": trump_events_df_date.iloc[i]['event'],\n",
        "                \"event_date\": event_date,\n",
        "                \"matched_tweet_ids\": [],\n",
        "                \"matched_tweet_texts\": [],\n",
        "                \"similarity_scores\": []\n",
        "            })\n",
        "    else:\n",
        "        matches.append({\n",
        "            \"event_id\": i,\n",
        "            \"event_description\": trump_events_df_date.iloc[i]['event'],\n",
        "            \"event_date\": event_date,\n",
        "            \"matched_tweet_ids\": [],\n",
        "            \"matched_tweet_texts\": [],\n",
        "            \"similarity_scores\": []\n",
        "        })\n",
        "\n",
        "# Convert results to a DataFrame for better readability\n",
        "results_df = pd.DataFrame(matches)\n",
        "#print(results_df)\n"
      ],
      "metadata": {
        "id": "N_tXwoI5BYj4"
      },
      "execution_count": 12,
      "outputs": []
    },
    {
      "cell_type": "code",
      "source": [
        "#results_df[[\"event_description\", \"matched_tweet_texts\"]]"
      ],
      "metadata": {
        "id": "XHmwQbMHCYxT"
      },
      "execution_count": 13,
      "outputs": []
    },
    {
      "cell_type": "code",
      "source": [
        "results_df.to_csv(\"bert_faiss_sim_scores.csv\", index=False)"
      ],
      "metadata": {
        "id": "5BaOoLeVEeZH"
      },
      "execution_count": 14,
      "outputs": []
    },
    {
      "cell_type": "markdown",
      "source": [
        "## Analyze & Visualizs Results"
      ],
      "metadata": {
        "id": "2r61aN7V7lTX"
      }
    },
    {
      "cell_type": "code",
      "source": [
        "\n",
        "# Convert matches to a DataFrame for easier manipulation\n",
        "matches_df = pd.DataFrame(matches)\n",
        "\n",
        "# Create a new column to store the number of matches for each event\n",
        "matches_df['num_matches'] = matches_df['matched_tweet_ids'].apply(len)\n",
        "\n",
        "# Display the frequency of match counts (e.g., 0 matches, 1 match, 2 matches, etc.)\n",
        "match_counts = matches_df['num_matches'].value_counts().sort_index()\n",
        "\n",
        "# Plot a bar chart to visualize the distribution of match counts\n",
        "plt.figure(figsize=(8, 6))\n",
        "match_counts.plot(kind='bar', color='skyblue')\n",
        "plt.title('Distribution of Matches per Event')\n",
        "plt.xlabel('Number of Matches')\n",
        "plt.ylabel('Number of Events')\n",
        "plt.xticks(rotation=90)\n",
        "plt.show()\n",
        "\n",
        "# Print the match counts for review\n",
        "#print(match_counts)\n"
      ],
      "metadata": {
        "colab": {
          "base_uri": "https://localhost:8080/",
          "height": 577
        },
        "id": "YSZiEYYwBfNf",
        "outputId": "530db388-4645-486c-f730-ca899e7369e1"
      },
      "execution_count": 15,
      "outputs": [
        {
          "output_type": "display_data",
          "data": {
            "text/plain": [
              "<Figure size 800x600 with 1 Axes>"
            ],
            "image/png": "[encoded data removed]"
          },
          "metadata": {}
        }
      ]
    },
    {
      "cell_type": "code",
      "source": [
        "\n",
        "\n",
        "# Load the approval ratings dataset\n",
        "\n",
        "\n",
        "approval_df = pd.read_csv(\"/content/drive/MyDrive/QSS_45/adj_approval_rates_df.csv\")\n",
        "\n",
        "# Drop rows with NaN values in any column\n",
        "approval_df_clean = approval_df.dropna()\n",
        "\n",
        "# Ensure 'startdate' and 'enddate' are in datetime format\n",
        "approval_df_clean['startdate'] = pd.to_datetime(approval_df_clean['startdate'])\n",
        "approval_df_clean['enddate'] = pd.to_datetime(approval_df_clean['enddate'])\n",
        "\n",
        "# Replace NaN values in 'approve' column with the mean value of the column\n",
        "approval_df_clean['approve'] = approval_df_clean['approve'].fillna(approval_df_clean['approve'].mean())\n",
        "\n",
        "# Ensure 'date' in events DataFrame is in datetime format and drop any rows with missing dates\n",
        "trump_events_df_date['date'] = pd.to_datetime(trump_events_df_date['date'], errors='coerce')\n",
        "trump_events_df_date = trump_events_df_date.dropna(subset=['date'])"
      ],
      "metadata": {
        "id": "6RhfRG2y6_iB"
      },
      "execution_count": 16,
      "outputs": []
    },
    {
      "cell_type": "code",
      "source": [
        "# Define the time window\n",
        "window_days = 10\n",
        "\n",
        "# Function to get approval change within the time window before and after the event\n",
        "def get_approval_change(event_date, approval_df, window_days):\n",
        "    # Filter approval ratings before the event (10 days before)\n",
        "    pre_event_df = approval_df_clean[\n",
        "        (approval_df_clean['startdate'] >= event_date - pd.Timedelta(days=window_days)) &\n",
        "        (approval_df_clean['startdate'] < event_date)\n",
        "    ]\n",
        "    pre_event = pre_event_df['approve'].mean() if not pre_event_df.empty else float('nan')\n",
        "\n",
        "    # Filter approval ratings after the event (10 days after)\n",
        "    post_event_df = approval_df_clean[\n",
        "        (approval_df_clean['enddate'] > event_date) &\n",
        "        (approval_df_clean['enddate'] <= event_date + pd.Timedelta(days=window_days))\n",
        "    ]\n",
        "    post_event = post_event_df['approve'].mean() if not post_event_df.empty else float('nan')\n",
        "\n",
        "    return pre_event, post_event\n",
        "\n",
        "# Preallocate lists to store results\n",
        "approval_changes_with_match = []\n",
        "approval_changes_without_match = []\n",
        "\n",
        "# Loop through events and calculate approval changes based on tweet match\n",
        "for _, event in trump_events_df_date.iterrows():\n",
        "    event_date = event['date']\n",
        "    tweet_match = event['tweet_match']  # 'Yes' or 'No'\n",
        "\n",
        "    # Get the approval change (pre-event to post-event)\n",
        "    pre_event, post_event = get_approval_change(event_date, approval_df_clean, window_days)\n",
        "    if not np.isnan(pre_event) and not np.isnan(post_event):\n",
        "        approval_change = post_event - pre_event\n",
        "\n",
        "        # Append the change to the appropriate group\n",
        "        if tweet_match == 'Yes':\n",
        "            approval_changes_with_match.append(approval_change)\n",
        "        else:\n",
        "            approval_changes_without_match.append(approval_change)\n",
        "\n",
        "# Statistical Test: Independent t-test\n",
        "t_stat, p_val = ttest_ind(approval_changes_with_match, approval_changes_without_match)\n",
        "\n",
        "# Display the results\n",
        "print(f\"T-statistic: {t_stat}\")\n",
        "print(f\"P-value: {p_val}\")\n",
        "\n",
        "# Plot Approval Changes\n",
        "data = [approval_changes_with_match, approval_changes_without_match]\n",
        "plt.boxplot(data, labels=['With Tweet Match', 'Without Tweet Match'])\n",
        "plt.title('Approval Changes 10 Days Before and After Events')\n",
        "plt.ylabel('Approval Change (%)')\n",
        "plt.show()\n",
        "\n",
        "# Interpretation\n",
        "if p_val < 0.05:\n",
        "    print(\"There is a statistically significant difference in approval ratings based on tweet match.\")\n",
        "else:\n",
        "    print(\"There is no significant difference in approval ratings based on tweet match.\")\n"
      ],
      "metadata": {
        "colab": {
          "base_uri": "https://localhost:8080/",
          "height": 506
        },
        "id": "n7pHxbicIHwI",
        "outputId": "c274bc4b-e23a-42a7-a7d7-5884233e2e25"
      },
      "execution_count": 17,
      "outputs": [
        {
          "output_type": "stream",
          "name": "stdout",
          "text": [
            "T-statistic: -1.4916635698483864\n",
            "P-value: 0.13778126672676344\n"
          ]
        },
        {
          "output_type": "display_data",
          "data": {
            "text/plain": [
              "<Figure size 640x480 with 1 Axes>"
            ],
            "image/png": "[encoded data removed]"
          },
          "metadata": {}
        },
        {
          "output_type": "stream",
          "name": "stdout",
          "text": [
            "There is no significant difference in approval ratings based on tweet match.\n"
          ]
        }
      ]
    },
    {
      "cell_type": "code",
      "source": [
        "# Ensure 'event_description' exists in both DataFrames\n",
        "# If 'event_description' is the same as 'event', we can directly rename it\n",
        "trump_events_df_date['event_description'] = trump_events_df_date['event']\n",
        "\n",
        "# Now, merge the DataFrames\n",
        "trump_events_df_date_merged = trump_events_df_date.merge(\n",
        "    matches_df[['event_description', 'matched_tweet_ids']],\n",
        "    on=['event_description'],\n",
        "    how='left'\n",
        ")\n"
      ],
      "metadata": {
        "id": "gt7lKUxDLQO9"
      },
      "execution_count": 18,
      "outputs": []
    },
    {
      "cell_type": "code",
      "source": [
        "\n",
        "\n",
        "# Load the approval ratings dataset\n",
        "approval_df = pd.read_csv(\"/content/drive/MyDrive/QSS_45/adj_approval_rates_df.csv\")\n",
        "\n",
        "# Drop rows with NaN values in any column\n",
        "approval_df_clean = approval_df.dropna()\n",
        "\n",
        "# Ensure 'startdate' and 'enddate' are in datetime format\n",
        "approval_df_clean['startdate'] = pd.to_datetime(approval_df_clean['startdate'])\n",
        "approval_df_clean['enddate'] = pd.to_datetime(approval_df_clean['enddate'])\n",
        "\n",
        "# Replace NaN values in 'approve' column with the mean value of the column\n",
        "approval_df_clean['approve'] = approval_df_clean['approve'].fillna(approval_df_clean['approve'].mean())\n",
        "\n",
        "# Ensure 'date' in events DataFrame is in datetime format and drop any rows with missing dates\n",
        "trump_events_df_date['date'] = pd.to_datetime(trump_events_df_date['date'], errors='coerce')\n",
        "trump_events_df_date = trump_events_df_date.dropna(subset=['date'])\n"
      ],
      "metadata": {
        "id": "1dSLNPxeLCgl"
      },
      "execution_count": 19,
      "outputs": []
    },
    {
      "cell_type": "code",
      "source": [
        "\n",
        "# Define the time window\n",
        "window_days = 10\n",
        "\n",
        "# Function to get approval change within the time window before and after the event\n",
        "def get_approval_change(event_date, approval_df, window_days):\n",
        "    # Filter approval ratings before the event (10 days before)\n",
        "    pre_event_df = approval_df_clean[\n",
        "        (approval_df_clean['startdate'] >= event_date - pd.Timedelta(days=window_days)) &\n",
        "        (approval_df_clean['startdate'] < event_date)\n",
        "    ]\n",
        "    pre_event = pre_event_df['approve'].mean() if not pre_event_df.empty else float('nan')\n",
        "\n",
        "    # Filter approval ratings after the event (10 days after)\n",
        "    post_event_df = approval_df_clean[\n",
        "        (approval_df_clean['enddate'] > event_date) &\n",
        "        (approval_df_clean['enddate'] <= event_date + pd.Timedelta(days=window_days))\n",
        "    ]\n",
        "    post_event = post_event_df['approve'].mean() if not post_event_df.empty else float('nan')\n",
        "\n",
        "    return pre_event, post_event"
      ],
      "metadata": {
        "id": "NK38FTpGMlEy"
      },
      "execution_count": 20,
      "outputs": []
    },
    {
      "cell_type": "code",
      "source": [
        "# Preallocate lists to store results\n",
        "approval_changes_by_match_count = {0: [], 1: [], 2: [], 3: [], 4: []}\n",
        "\n",
        "# Loop through events and calculate approval changes based on tweet match count\n",
        "for _, event in trump_events_df_date_merged.iterrows():\n",
        "    event_date = event['date']\n",
        "    num_matches = len(event['matched_tweet_ids'])  # Number of tweet matches (0, 1, 2, 3, 4+)\n",
        "\n",
        "    # Get the approval change (pre-event to post-event)\n",
        "    pre_event, post_event = get_approval_change(event_date, approval_df_clean, window_days)\n",
        "    if not np.isnan(pre_event) and not np.isnan(post_event):\n",
        "        approval_change = post_event - pre_event\n",
        "\n",
        "        # Append the change to the appropriate group based on number of matches\n",
        "        if num_matches >= 4:\n",
        "            approval_changes_by_match_count[4].append(approval_change)\n",
        "        else:\n",
        "            approval_changes_by_match_count[num_matches].append(approval_change)"
      ],
      "metadata": {
        "id": "UJ0PU4OLMmwv"
      },
      "execution_count": 21,
      "outputs": []
    },
    {
      "cell_type": "code",
      "source": [
        "# Perform statistical test (ANOVA) to compare approval changes across different match counts\n",
        "match_groups = [approval_changes_by_match_count[i] for i in range(5)]\n",
        "f_stat, p_val = f_oneway(*match_groups)\n",
        "\n",
        "# Display the results of the ANOVA\n",
        "\n",
        "print(f\"F-statistic: {f_stat}\")\n",
        "print(f\"P-value: {p_val}\")\n",
        "\n",
        "# Box plot to visualize the approval changes for different match counts\n",
        "plt.boxplot(match_groups, labels=[f'{i} Match' for i in range(5)])\n",
        "plt.title('Approval Changes 10 Days Before and After Events by Tweet Match Count')\n",
        "plt.ylabel('Approval Change (%)')\n",
        "plt.show()\n",
        "\n",
        "# Interpretation\n",
        "if p_val < 0.05:\n",
        "    print(\"There is a statistically significant difference in approval ratings based on tweet match count.\")\n",
        "else:\n",
        "    print(\"There is no significant difference in approval ratings based on tweet match count.\")\n"
      ],
      "metadata": {
        "colab": {
          "base_uri": "https://localhost:8080/",
          "height": 506
        },
        "id": "szR18lKRKtpH",
        "outputId": "8d8e17e2-e0f4-4d75-ab81-7a6fafc51427"
      },
      "execution_count": 22,
      "outputs": [
        {
          "output_type": "stream",
          "name": "stdout",
          "text": [
            "F-statistic: 1.4660290328868053\n",
            "P-value: 0.21516493496709327\n"
          ]
        },
        {
          "output_type": "display_data",
          "data": {
            "text/plain": [
              "<Figure size 640x480 with 1 Axes>"
            ],
            "image/png": "[encoded data removed]"
          },
          "metadata": {}
        },
        {
          "output_type": "stream",
          "name": "stdout",
          "text": [
            "There is no significant difference in approval ratings based on tweet match count.\n"
          ]
        }
      ]
    }
  ]
}